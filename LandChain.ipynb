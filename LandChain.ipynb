{
 "cells": [
  {
   "cell_type": "code",
   "execution_count": 4,
   "metadata": {},
   "outputs": [],
   "source": [
    "from my_secret_key import mistral_key\n",
    "import os\n",
    "os.environ[\"MISTRAL_API_KEY\"] = mistral_key\n",
    "# print(os.getenv(\"MISTRAL_API_KEY\"))"
   ]
  },
  {
   "cell_type": "code",
   "execution_count": 8,
   "metadata": {},
   "outputs": [],
   "source": [
    "from langchain_mistralai import ChatMistralAI\n",
    "from langchain_core.prompts import ChatPromptTemplate\n",
    "from langchain_core.prompts import PromptTemplate\n",
    "#from langchain_core.output_parsers import JsonOutputParser\n",
    "from langchain_core.output_parsers import StrOutputParser\n",
    "from langchain_core.runnables import RunnableSequence\n",
    "#from langchain.chains import LLMChain\n",
    "from langchain.chains import SimpleSequentialChain, LLMChain, SequentialChain"
   ]
  },
  {
   "cell_type": "code",
   "execution_count": null,
   "metadata": {},
   "outputs": [],
   "source": [
    "model = ChatMistralAI(model=\"mistral-large-latest\")\n",
    "parser = StrOutputParser()\n",
    "# system_template = \"Translate the following into {language}:\"\n",
    "# prompt_template = ChatPromptTemplate.from_messages(\n",
    "#     [(\"system\", system_template), (\"user\", \"{text}\")]\n",
    "# )\n",
    "# result= prompt_template.invoke({\"language\":\"italian\",\"text\":\"hi\"})\n",
    "# chain = prompt_template | model | parser\n",
    "# respose=chain.invoke({\"language\": \"italian\", \"text\": \"hi\"})\n",
    "# print(respose )\n",
    "\n",
    "p1=PromptTemplate(input_variables=['cuisine'],template=\"I want to open restaturant for {cuisine} food.Suggest only one fancy name for this. Respond only name\")\n",
    "p2=PromptTemplate(input_variables=['restaurant_name'],template=\"Suggest some menu items for {restaurant_name}. Return it as a comma seprated list.\")\n",
    "\n",
    "# Create chains for generating restaurant names and menu items\n",
    "name_chain = LLMChain(prompt=p1, llm=model, output_parser=parser)\n",
    "menu_chain = LLMChain(prompt=p2, llm=model, output_parser=parser)\n",
    "\n",
    "# result = menu_chain.run(restaturant_name=restaurant_name)\n",
    "# print(result)\n",
    "#name_chain = LLMChain(prompt=name_prompt_template, llm=model, output_parser=parser)\n",
    "#food_chain = LLMChain(prompt=food_prompt_template, llm=model, output_parser=parser)\n",
    "\n",
    "'''\n",
    "name_prompt_template = ChatPromptTemplate.from_messages(\n",
    "    [(\"user\", \"I want to open restaturant for {cuisine} food.Suggest only one fancy name for this. Respond only name\")]\n",
    ")\n",
    "food_prompt_template = ChatPromptTemplate.from_messages(\n",
    "    [(\"user\", \"Suggest some menu items for {restaturant_name}.Return only menu item in comma seprated list.\")]\n",
    ")\n",
    "chain = name_prompt_template | model | parser\n",
    "print(chain)\n",
    "\n",
    "combined_sequence = RunnableSequence(\n",
    "    {\n",
    "        \"restaturant_name\":chain\n",
    "    },\n",
    "    food_prompt_template,\n",
    "    model,\n",
    "    parser\n",
    ")\n",
    "\n",
    "print(combined_sequence)\n",
    "\n",
    "respose=combined_sequence.invoke({\"cuisine\": \"italian\"})\n",
    "print(f\"Restaurant Name: {respose}\")'''"
   ]
  },
  {
   "cell_type": "code",
   "execution_count": 2,
   "metadata": {},
   "outputs": [],
   "source": [
    "\n",
    "# Initialize Mistral or OpenAI LLM (depending on your setup)\n",
    "# llm = ChatMistralAI(temperature=0.6)  # Replace with Mistral if using Mistral integration\n",
    "\n",
    "# # Create a chat prompt template\n",
    "# prompt_template = ChatPromptTemplate.from_template(\n",
    "#     \"I want to open a restaurant for {cuisine} food. Suggest a fancy name for this. Return it as comma seprarted list.\"\n",
    "# )\n",
    "\n",
    "# # Format it with specific inputs\n",
    "# formatted_prompt = prompt_template.format_messages(cuisine=\"Indian\")\n",
    "\n",
    "# # Extract the string content from the ChatPromptValue\n",
    "# prompt_text = formatted_prompt[0].content\n",
    "\n",
    "# # Pass the string content to the LLM\n",
    "# response = llm.invoke(prompt_text)\n",
    "# print(response.content)\n"
   ]
  },
  {
   "cell_type": "code",
   "execution_count": 3,
   "metadata": {},
   "outputs": [],
   "source": [
    "chain = SimpleSequentialChain(\n",
    "    chains=[name_chain, menu_chain],\n",
    "    verbose=True\n",
    ")\n",
    "\n",
    "#menu_items = chain.run('italian')\n",
    "#print(\"==========\",menu_items)"
   ]
  },
  {
   "cell_type": "code",
   "execution_count": null,
   "metadata": {},
   "outputs": [],
   "source": [
    "p1=PromptTemplate(input_variables=['cuisine'],template=\"I want to open restaturant for {cuisine} food.Suggest only one fancy name for this. Respond only name\")\n",
    "\n",
    "p2=PromptTemplate(input_variables=['restaurant_name'],template=\"Suggest some menu items for {restaurant_name}. Return only menu item in comma seprated list\")\n",
    "\n",
    "# Create chains for generating restaurant names and menu items\n",
    "name_chain = LLMChain(prompt=p1, llm=model, output_parser=parser,output_key='restaurant_name')\n",
    "menu_chain = LLMChain(prompt=p2, llm=model, output_parser=parser,output_key='menu_items')\n",
    "\n",
    "chain = SequentialChain(\n",
    "    chains=[name_chain, menu_chain],\n",
    "    input_variables=['cuisine'],\n",
    "    output_variables=['restaurant_name','menu_items'],\n",
    "    verbose=True\n",
    ")\n",
    "\n",
    "menu_items = chain({'cuisine':'italian'})\n",
    "print(\"==========\",menu_items)"
   ]
  },
  {
   "cell_type": "code",
   "execution_count": null,
   "metadata": {},
   "outputs": [],
   "source": [
    "from langchain.agents import AgentType, initialize_agent, load_tools\n",
    "from langchain_mistralai import ChatMistralAI\n",
    "\n",
    "model = ChatMistralAI(model=\"mistral-large-latest\")\n",
    "tools=load_tools([\"wikipedia\",\"llm-math\"],llm=model)\n",
    "\n",
    "agent=initialize_agent(tools,\n",
    "                 model,\n",
    "                 agent=AgentType.ZERO_SHOT_REACT_DESCRIPTION,\n",
    "                 verbose=True\n",
    "                 )\n",
    "\n",
    "agent.run(\"When was elon musk born? what is his age right now?\")"
   ]
  },
  {
   "cell_type": "code",
   "execution_count": null,
   "metadata": {},
   "outputs": [],
   "source": [
    "p1=PromptTemplate(input_variables=['cuisine'],template=\"I want to open restaturant for {cuisine} food.Suggest only one fancy name for this. Respond only name\")\n",
    "parser = StrOutputParser()\n",
    "name_chain = LLMChain(prompt=p1, llm=model, output_parser=parser,output_key='restaurant_name')\n",
    "dir(name_chain)"
   ]
  }
 ],
 "metadata": {
  "kernelspec": {
   "display_name": ".venv",
   "language": "python",
   "name": "python3"
  },
  "language_info": {
   "codemirror_mode": {
    "name": "ipython",
    "version": 3
   },
   "file_extension": ".py",
   "mimetype": "text/x-python",
   "name": "python",
   "nbconvert_exporter": "python",
   "pygments_lexer": "ipython3",
   "version": "3.9.6"
  }
 },
 "nbformat": 4,
 "nbformat_minor": 2
}
