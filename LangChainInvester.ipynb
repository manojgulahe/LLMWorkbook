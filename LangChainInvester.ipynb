{
 "cells": [
  {
   "cell_type": "code",
   "execution_count": 11,
   "metadata": {},
   "outputs": [
    {
     "data": {
      "text/plain": [
       "{'source': 'sample.txt'}"
      ]
     },
     "execution_count": 11,
     "metadata": {},
     "output_type": "execute_result"
    }
   ],
   "source": [
    "from langchain.document_loaders import TextLoader\n",
    "loader = TextLoader(\"sample.txt\")\n",
    "data=loader.load()\n",
    "data[0].metadata"
   ]
  },
  {
   "cell_type": "code",
   "execution_count": 15,
   "metadata": {},
   "outputs": [
    {
     "data": {
      "text/plain": [
       "{'source': 'booker12', 'row': 0}"
      ]
     },
     "execution_count": 15,
     "metadata": {},
     "output_type": "execute_result"
    }
   ],
   "source": [
    "from langchain.document_loaders import CSVLoader\n",
    "loader=CSVLoader(\"sample.csv\",source_column=\"Username\")\n",
    "data=loader.load()\n",
    "data[0].metadata"
   ]
  },
  {
   "cell_type": "code",
   "execution_count": 18,
   "metadata": {},
   "outputs": [
    {
     "data": {
      "text/plain": [
       "\"English\\n\\nHindi\\n\\nGujarati\\n\\nSpecials\\n\\nHello, Login\\n\\nHello, Login\\n\\nLog-inor Sign-Up\\n\\nMy Account\\n\\nMy Profile\\n\\nMy Portfolio\\n\\nMy Watchlist\\n\\nMy Alerts\\n\\nMy Messages\\n\\nPrice Alerts\\n\\nMy Profile\\n\\nMy PRO\\n\\nMy Portfolio\\n\\nMy Watchlist\\n\\nMy Alerts\\n\\nMy Messages\\n\\nPrice Alerts\\n\\nLogout\\n\\nLoans up to ₹15 LAKHS\\n\\nFixed Deposits\\n\\nCredit CardsLifetime Free\\n\\nCredit Score\\n\\nChat with Us\\n\\nDownload App\\n\\nFollow us on:\\n\\nGo Ad-Free\\n\\nMy Alerts\\n\\n>->MC_ENG_DESKTOP/MC_ENG_NEWS/MC_ENG_MARKETS_AS/MC_ENG_ROS_NWS_MKTS_AS_ATF_728\\n\\nGo PRO @₹99 PRO\\n\\nAdvertisement\\n\\nRemove Ad\\n\\nBusiness\\n\\nMarkets\\n\\nStocks\\n\\nEconomy\\n\\nCompanies\\n\\nTrends\\n\\nIPO\\n\\nOpinion\\n\\nEV Special\\n\\nHomeNewsBusinessMarketsHDFC Bank's potential weightage hike in MSCI's Nov rejig could attract $1.88 bn inflows\\n\\nTrending Topics\\n\\nSensex Today LiveMazagon Dock Share PriceBitcoin PriceOil India Share PriceWaaree Energies Share Price\\n\\nHDFC Bank's potential weightage hike in MSCI's Nov rejig could attract $1.88 bn inflows\\n\\nNames such as Adani Energy Solutions, Kalyan Jewellers, BSE, Alkem Labs, and Oberoi Realty have a strong likelihood of getting a ticket into the MSCI Global Standard index.\\n\\nMoneycontrol News\\n\\nNovember 06, 2024 / 08:53 IST\\n\\nThe MSCI rejig announcement is slated for November 7, while adjustments are scheduled for November 25.\\n\\nThe latest round of rejig for MSCI indices is slated to take place on November 7, with the spotlight on the anticipated weightage increase for banking giant HDFC Bank, potentially drawing inflows of around $1.88 billion.\\n\\nIn addition to banking giant HDFC Bank, companies like Adani Energy Solutions, Kalyan Jewellers, BSE, Alkem Labs, and Oberoi Realty are also in focus for a high possibility of an inclusion in the MSCI Global Standard Index, according to Nuvama Alternative & Quantitative Research.\\n\\nStory continues below Advertisement\\n\\nRemove Ad\\n\\nAside from these, Voltas also has a borderline chance of bagging an inclusion. The official announcement is expected on November 7 at around 2:30 am, while adjustments are scheduled for November 25.\\n\\nAccording to calculations by Nuvama, Adani Energy Solutions could see $306 million in passive inflows from the MSCI rejig while BSE is projected to attract $257 million, followed by Oberoi Realty with $218 million, Alkem at $211 million, and Kalyan Jewellers India with $210 million. Nuvama also noted that if Voltas is indeed included in the index, it could draw in $306 million in passive inflows.\\n\\nFollow our market blog to catch all the live action\\n\\nRelated stories\\n\\nHDB Financial IPO: 10 key things to know as HDFC Bank's NBFC arm prepares for stock market debut\\n\\nHDFC Bank's NBFC arm HDB Financial files DRHP for Rs 12,500 crore IPO\\n\\nMeanwhile, the MSCI Smallcap index is expected to see a slew of new inclusions, including Brainbees Solutions, Ola Electric, Jyoti CNC Automation, Eureka Forbes, Aadhar Housing, PC Jewellers, JSW Holdings, and Allied Blenders. Together, these inclusions could garner inflows worth upto $106 million, Nuvama estimated.\\n\\nConversely, Nuvama suggested that Fusion Finance, TCI Express, Sanofi Consumer, Hitachi Energy, and Hinduja Global may be among the potential exclusions from the index.\\n\\nDisclaimer: The views and investment tips expressed by investment experts on Moneycontrol.com are their own and not those of the website or its management. Moneycontrol.com advises users to check with certified experts before taking any investment decisions.\\n\\nMoneycontrol News\\n\\nTags: #HDFC Bank #MSCI rejig\\n\\nfirst published: Nov 5, 2024 02:59 pm\\n\\nTop Trends\\n\\nAngel TaxWiproBudget newsNew Income tax slabIPO News\\n\\nAdvertisement\\n\\nRemove Ad\\n\\nTrending news\\n\\nBengaluru influencer molested by 10-year-old boy while vlogging at BTM Layout: 'I don't feel safe here'\\n\\nVizag man calls Kolkata 'dirtiest city of India' in viral post: 'Open gutters, urine smell everywhere'\\n\\nThis woman beat age-reversing Bryan Johnson in 2023, ages 34 percent slower. Here's her longevity routine\\n\\nDeepinder Goyal reveals customers' reaction when wife Grecia Munoz delivered Zomato orders: 'They were...'\\n\\nThis US airport has employed llamas, alpacas to alleviate travel anxiety\\n\\nAdvisory Alert:\\n\\nForum Facebook Twitter Instagram Linkedin RSS\\n\\nPortfolio\\n\\nMarkets\\n\\nLoans up to ₹15 LAKHS\\n\\nWatchlist\\n\\nLive TV Show\\n\\nCurrencies\\n\\nCredit CardsLifetime Free\\n\\nCredit Score\\n\\nFinance Tracker\\n\\nCommodities\\n\\nFixed Deposits\\n\\nFixed Income\\n\\nPersonal Finance\\n\\nMutual Fund\\n\\nPre-Market\\n\\nIPO\\n\\nGlobal Market\\n\\nBudget 2024\\n\\nElections 2024\\n\\nGold Rate\\n\\nBSE Sensex\\n\\nForum\\n\\nMC 30\\n\\nNews\\n\\nBusiness\\n\\nMarkets\\n\\nStocks\\n\\nIncome Tax Calculator\\n\\nElection Schedule 2024\\n\\nIndia News\\n\\nEconomy\\n\\nMutual Funds\\n\\nPersonal Finance\\n\\nIPO News\\n\\nStartups\\n\\nStocks: A | B | C | D | E | F | G | H | I | J | K | L | M | N | O | P | Q | R | S | T | U | V | W | X | Y | Z | Others\\n\\nMutual Funds: A | B | C | D | E | F | G | H | I | J | K | L | M | N | O | P | Q | R | S | T | U | V | W | X | Y | Z\\n\\nVisit the App Store to see all our apps:\\n\\nDownload from Google PlayDownload from APP StoreDownload from Windows Phone\\n\\nTools\\n\\nRetirement Planning\\n\\nEMI Calculator\\n\\nSIP Calculator\\n\\nSIP Planner\\n\\nUseful Links\\n\\nCrypto News\\n\\nBank Holidays in India\\n\\nGold Rate Today\\n\\nSilver Rate Today\\n\\nTrending News\\n\\nStartups\\n\\nNational News\\n\\nMC Videos\\n\\nMC You Tube\\n\\nHouse Purchase Index\\n\\nBest Portfolio Manager\\n\\nSmall Savings Schemes\\n\\nBonds\\n\\nTopperLearning\\n\\nClear Study Doubts\\n\\nEducation Franchisee Opportunity\\n\\nSpecials\\n\\nMaster Your Money\\n\\nGame Changers\\n\\nInvestment Watch\\n\\nPowerYourTrade\\n\\nFocus\\n\\nSME Step Up\\n\\nNetwork 18 Sites\\n\\nNews18\\n\\nFirstpost\\n\\nCNBC TV18\\n\\nNews18 Hindi\\n\\nCricketnext\\n\\nOverdrive\\n\\nTopper Learning\\n\\nAbout us | Contact Us | Advisory Alert | Advertise with Us | Support | Disclaimer | Privacy Policy | Cookie Policy | Terms & Conditions | Careers | Financial Terms (Glossary) | FAQs | Sitemap | RSS Feed | Investors\\n\\nCopyright © e-Eighteen.com Ltd. All rights reserved. Reproduction of news articles, photos, videos or any other content in whole or in part in any form or medium without express writtern permission of moneycontrol.com is prohibited.\\n\\nYou got 30 Day’s Trial of\\n\\nGrab it Now\\n\\nAd-Free Experience\\n\\nTop Articles from Financial Times\\n\\nActionable Insights\\n\\nMC Research\\n\\nEconomic Calendar\\n\\n& Many More\\n\\nYou are already a Moneycontrol Pro user.\\n\\nVaibhavi Ranjan\""
      ]
     },
     "execution_count": 18,
     "metadata": {},
     "output_type": "execute_result"
    }
   ],
   "source": [
    "from langchain.document_loaders import UnstructuredURLLoader\n",
    "loader=UnstructuredURLLoader(urls=[\n",
    "    \"https://www.moneycontrol.com/news/business/markets/msci-november-rejig-hdfc-bank-stares-at-1-88-bn-inflows-kalyan-jewellers-bse-adani-energy-likely-inclusions-12858598.html\",\n",
    "    \"https://www.moneycontrol.com/news/opinion/is-rbi-missing-the-wood-for-the-trees-12855064.html\"\n",
    "])\n",
    "data=loader.load()\n",
    "data[0].page_content"
   ]
  },
  {
   "cell_type": "code",
   "execution_count": 27,
   "metadata": {},
   "outputs": [
    {
     "name": "stdout",
     "output_type": "stream",
     "text": [
      "193\n",
      "198\n",
      "74\n",
      "191\n",
      "199\n",
      "193\n",
      "8\n",
      "198\n",
      "196\n",
      "199\n",
      "87\n"
     ]
    }
   ],
   "source": [
    "from langchain_text_splitters import CharacterTextSplitter\n",
    "from langchain_text_splitters import RecursiveCharacterTextSplitter\n",
    "\n",
    "\n",
    "text=\"\"\"Interstellar is a 2014 epic science fiction drama film directed by Christopher Nolan, who co-wrote the screenplay with his brother Jonathan. It stars Matthew McConaughey, Anne Hathaway, Jessica Chastain, Bill Irwin, Ellen Burstyn, Matt Damon, and Michael Caine. Set in a dystopian future where Earth is suffering from catastrophic blight and famine, the film follows a group of astronauts who travel through a wormhole near Saturn in search of a new home for mankind.\n",
    "The screenplay had its origins in a script Jonathan developed in 2007 and was originally set to be directed by Steven Spielberg. Theoretical physicist Kip Thorne was an executive producer and scientific consultant on the film, and wrote the tie-in book The Science of Interstellar. Cinematographer Hoyte van Hoytema shot it on 35 mm movie film in the Panavision anamorphic format and IMAX 70 mm. Filming began in late 2013 and took place in Alberta, Klaustur, and Los Angeles. Interstellar uses extensive practical and miniature effects, and the company DNEG created additional digital effects.\n",
    "Interstellar was released in theaters on November 7, 2014. In the United States, it was first released on film stock, expanding to venues using digital projectors. The film received critical acclaim and grossed over $681 million worldwide ($730 million after subsequent re-releases), making it the tenth-highest-grossing film of 2014. Thorne's computer-generated depiction of a black hole in the film has also received commendation from astronomers and physicists.[4][5][6] Interstellar was nominated for five awards at the 87th Academy Awards, winning Best Visual Effects, and received numerous other accolades. This was Lynda Obst's final film as producer before her death in 2024.\n",
    "\"\"\"\n",
    "\n",
    "# char_text_splitter=CharacterTextSplitter(separator=\"\\n\",chunk_size=200,chunk_overlap=0)\n",
    "# chunk=char_text_splitter.split_text(text)\n",
    "# len(chunk)\n",
    "\n",
    "\n",
    "splitter = RecursiveCharacterTextSplitter(separators=[\"\\n\\n\",\"\\n\",\" \"],chunk_size=200,chunk_overlap=0)\n",
    "chunks=splitter.split_text(text)\n",
    "\n",
    "len(chunks)\n",
    "\n",
    "for chunk in chunks:\n",
    "    print(len(chunk))"
   ]
  }
 ],
 "metadata": {
  "kernelspec": {
   "display_name": ".venv",
   "language": "python",
   "name": "python3"
  },
  "language_info": {
   "codemirror_mode": {
    "name": "ipython",
    "version": 3
   },
   "file_extension": ".py",
   "mimetype": "text/x-python",
   "name": "python",
   "nbconvert_exporter": "python",
   "pygments_lexer": "ipython3",
   "version": "3.9.6"
  }
 },
 "nbformat": 4,
 "nbformat_minor": 2
}
